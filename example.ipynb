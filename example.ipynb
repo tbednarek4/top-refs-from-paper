{
  "cells": [
    {
      "cell_type": "markdown",
      "source": [
        "# **Run first before everything**"
      ],
      "metadata": {
        "id": "7yEmaaqqRWrU"
      }
    },
    {
      "cell_type": "code",
      "execution_count": 1,
      "metadata": {
        "id": "3CfKLMXaRVQA",
        "outputId": "809d1501-afae-4468-eb51-1418f8572e10",
        "colab": {
          "base_uri": "https://localhost:8080/"
        }
      },
      "outputs": [
        {
          "output_type": "stream",
          "name": "stderr",
          "text": [
            "/usr/local/lib/python3.10/dist-packages/_distutils_hack/__init__.py:33: UserWarning: Setuptools is replacing distutils.\n",
            "  warnings.warn(\"Setuptools is replacing distutils.\")\n"
          ]
        }
      ],
      "source": [
        "# top-refs-from-paper: retrieve top citations from a scientific paper using Crossref\n",
        "# Copyright (C) 2023 Tomasz Bednarek\n",
        "\n",
        "# This program is free software: you can redistribute it and/or modify\n",
        "# it under the terms of the GNU Affero General Public License as published\n",
        "# by the Free Software Foundation, either version 3 of the License, or\n",
        "# (at your option) any later version.\n",
        "\n",
        "# This program is distributed in the hope that it will be useful,\n",
        "# but WITHOUT ANY WARRANTY; without even the implied warranty of\n",
        "# MERCHANTABILITY or FITNESS FOR A PARTICULAR PURPOSE.  See the\n",
        "# GNU Affero General Public License for more details.\n",
        "\n",
        "# You should have received a copy of the GNU Affero General Public License\n",
        "# along with this program.  If not, see <https://www.gnu.org/licenses/>.\n",
        "\n",
        "from collections import Counter\n",
        "from time import perf_counter, sleep\n",
        "import argparse, json, os, pip, re\n",
        "\n",
        "before = perf_counter()\n",
        "\n",
        "def install(package):\n",
        "  pip.main(['install', package])\n",
        "\n",
        "def install_all_packages(modules_to_try):\n",
        "  os.system('python -m pip install --upgrade pip > $null')\n",
        "  for module in modules_to_try:\n",
        "    try:\n",
        "      __import__(module)        \n",
        "    except ImportError as e:\n",
        "      install(e.name)\n",
        "\n",
        "install_all_packages(['bs4', 'prettytable', 'requests'])\n",
        "import requests\n",
        "from bs4 import BeautifulSoup\n",
        "from prettytable import PrettyTable\n",
        "\n",
        "flag = True\n",
        "CLEANR = re.compile('<.*?>|&([a-z0-9]+|#[0-9]{1,6}|#x[0-9a-f]{1,6});')\n",
        "\n",
        "def cleanhtml(raw_html):\n",
        "  cleantext = re.sub(CLEANR, '', raw_html)\n",
        "  return cleantext\n",
        "\n",
        "def get_references(doi_link):\n",
        "  response = None\n",
        "\n",
        "  try:\n",
        "    flag = True\n",
        "    response = requests.get(f'https://api.crossref.org/works/{doi_link}')\n",
        "  except TimeoutError:\n",
        "    print(f'Timeout for {doi_link}')\n",
        "    sleep(60)\n",
        "    if flag: \n",
        "      flag = False\n",
        "      return get_references(doi_link)\n",
        "    else: \n",
        "      print('Critical error: shutting down the script!')\n",
        "      exit()\n",
        "\n",
        "  output = None\n",
        "\n",
        "  try: \n",
        "    output = response.json().get('message', {}).get('reference')\n",
        "  except json.decoder.JSONDecodeError:\n",
        "    print(f\"There is a problem with JSON output from DOI: {doi_link}\")\n",
        "    pass\n",
        "\n",
        "  if output != None:\n",
        "    ref_list = [ el.get('DOI') for el in output if el.get('DOI') ]\n",
        "    return ref_list\n",
        "  else: pass\n",
        "\n",
        "def get_title(doi_link):\n",
        "  response = None\n",
        "  output = None\n",
        "  \n",
        "  try:\n",
        "    flag = True\n",
        "    response = requests.get(f'https://api.crossref.org/works/{doi_link}')\n",
        "  except TimeoutError:\n",
        "    print(f'Timeout for {doi_link}')\n",
        "    sleep(60)\n",
        "    if flag: \n",
        "      flag = False\n",
        "      return get_references(doi_link)\n",
        "    else: \n",
        "      print('Critical error: shutting down the script!')\n",
        "      exit()\n",
        "\n",
        "  try: \n",
        "    output = cleanhtml(response.json().get('message', {}).get('title')[0])\n",
        "  except json.decoder.JSONDecodeError:\n",
        "    print(f\"There is a problem with title retrival from DOI: {doi_link}\")\n",
        "    pass\n",
        "\n",
        "  return output\n",
        "\n",
        "def get_ranking(temp_set, depth, length, previous_list=[]):\n",
        "  next_list = []\n",
        "  for link in temp_set:\n",
        "    temp = get_references(link)\n",
        "    if temp: next_list.extend(temp)\n",
        "    else: print(f'References not found for {link}')\n",
        "\n",
        "  next_set = set(next_list)\n",
        "  previous_set = set(previous_list)\n",
        "  next_set -= previous_set\n",
        "  next_list.extend(previous_list)\n",
        "\n",
        "  if depth > 1:\n",
        "    get_ranking(next_set, depth - 1, length, next_list)\n",
        "  else:\n",
        "    res = Counter(next_list).most_common()\n",
        "    my_table = PrettyTable()\n",
        "    my_table.field_names = [\"Count\", \"DOI\", \"Title\"]\n",
        "\n",
        "    for doi, count in res[:length]:\n",
        "      title = get_title(doi)\n",
        "      if title: my_table.add_row([count, doi, title])\n",
        "\n",
        "    print('\\n')\n",
        "    print(my_table)\n",
        "    pass  "
      ]
    },
    {
      "cell_type": "markdown",
      "source": [
        "# **Example run for the DOI: https://doi.org/10.1016/j.susc.2005.05.030**"
      ],
      "metadata": {
        "id": "rubMsisuRcHc"
      }
    },
    {
      "cell_type": "code",
      "source": [
        "get_ranking(['https://doi.org/10.1016/j.susc.2005.05.030'], depth=3, length=20)"
      ],
      "metadata": {
        "id": "ZrhG9rxIRjuy",
        "outputId": "f2d32491-0156-462d-b39c-158ccd5d0209",
        "colab": {
          "base_uri": "https://localhost:8080/"
        }
      },
      "execution_count": 2,
      "outputs": [
        {
          "output_type": "stream",
          "name": "stdout",
          "text": [
            "References not found for 10.1007/s003390051306\n",
            "References not found for 10.1039/b002630l\n",
            "References not found for 10.1021/la00059a027\n",
            "References not found for 10.1119/1.1974502\n",
            "References not found for 10.1007/978-3-642-86105-5\n",
            "References not found for 10.1007/BF01399758\n",
            "References not found for 10.1017/CBO9780511622564\n",
            "References not found for 10.1007/s003390100674\n",
            "References not found for 10.1016/0079-6816(95)00050-X\n",
            "References not found for 10.1147/rd.141.0061\n",
            "References not found for 10.1142/S0217979295000562\n",
            "References not found for 10.1038/328299a0\n",
            "References not found for 10.1016/0003-4916(76)90038-5\n",
            "References not found for 10.1007/s003400050674\n",
            "References not found for 10.1139/p89-178\n",
            "References not found for 10.1007/978-1-4757-5107-9\n",
            "References not found for 10.1103/PhysRevB.52.R14380\n",
            "References not found for 10.1142/S0218625X96002539\n",
            "References not found for 10.1142/S0218625X95000121\n",
            "References not found for 10.1116/1.579114\n",
            "References not found for 10.1103/PhysRevLett.2.393\n",
            "References not found for 10.1146/annurev.pc.31.100180.003131\n",
            "References not found for 10.1143/PTPS.106.405\n",
            "References not found for 10.1139/p80-159\n",
            "References not found for 10.1116/1.576476\n",
            "References not found for 10.1103/PhysRevB.19.3329\n",
            "References not found for 10.1016/0079-6816(82)90001-6\n",
            "References not found for 10.1139/p76-164\n",
            "References not found for 10.1007/s007700050023\n",
            "References not found for 10.1007/BF01341581\n",
            "References not found for 10.1116/1.587314\n",
            "References not found for 10.1116/1.574286\n",
            "\n",
            "\n",
            "+-------+-----------------------------+------------------------------------------------------------------------------------------------------+\n",
            "| Count |             DOI             |                                                Title                                                 |\n",
            "+-------+-----------------------------+------------------------------------------------------------------------------------------------------+\n",
            "|   92  |  10.1103/PhysRev.140.A1133  |                 Self-Consistent Equations Including Exchange and Correlation Effects                 |\n",
            "|   70  |   10.1103/PhysRev.136.B864  |                                      Inhomogeneous Electron Gas                                      |\n",
            "|   50  | 10.1088/0022-3719/11/10/017 |                      The existence and detection of Rydberg states at surfaces                       |\n",
            "|   50  |   10.1103/PhysRevB.1.4555   |                     Theory of Metal Surfaces: Charge Density and Surface Energy                      |\n",
            "|   41  |       10.1038/363524a0      |                       Imaging standing waves in a two-dimensional electron gas                       |\n",
            "|   41  |   10.1103/PhysRevB.32.3549  |   Phase analysis of image states and surface states associated with nearly-free-electron band gaps   |\n",
            "|   37  |   10.1103/PhysRevB.27.2527  |          Image-potential states and energy-loss satellites in inverse photoemission spectra          |\n",
            "|   35  | 10.1103/PhysRevLett.52.1922 |                      Identification of Image-Potential Surface States on Metals                      |\n",
            "|   32  | 10.1103/PhysRevLett.71.1071 | Direct observation of standing wave formation at surface steps using scanning tunneling spectroscopy |\n",
            "|   32  |  10.1103/PhysRevLett.50.526 |         Evidence for a New Broadening Mechanism in Angle-Resolved Photoemission from Cu(111)         |\n",
            "|   32  |   10.1103/PhysRevB.23.5048  |      Self-interaction correction to density-functional approximations for many-electron systems      |\n",
            "|   31  | 10.1103/PhysRevLett.52.1919 |                       Image-Potential States Observed by Inverse Photoemission                       |\n",
            "|   30  |  10.1103/PhysRevLett.55.300 |                         Two-photon photoemission via image-potential states                          |\n",
            "|   30  |  10.1088/0022-3719/4/14/022 |                            Explicit local exchange-correlation potentials                            |\n",
            "|   30  |   10.1103/PhysRev.46.1002   |                              On the Interaction of Electrons in Metals                               |\n",
            "|   29  |   10.1103/PhysRevB.12.4047  |       Transitions conserving parallel momentum in photoemission from the (111) face of copper        |\n",
            "|   27  |   10.1103/PhysRevB.33.2256  |                  Spectroscopy of image-potential states with inverse photoemission                   |\n",
            "|   27  |   10.1103/PhysRevB.7.3541   |                 Theory of Metal Surfaces: Induced Surface Charge and Image Potential                 |\n",
            "|   26  | 10.1103/PhysRevLett.55.2055 |                                   Image Planes and Surface States                                    |\n",
            "|   26  |   10.1103/PhysRevB.3.1215   |                               Theory of Metal Surfaces: Work Function                                |\n",
            "+-------+-----------------------------+------------------------------------------------------------------------------------------------------+\n"
          ]
        }
      ]
    }
  ],
  "metadata": {
    "language_info": {
      "name": "python"
    },
    "orig_nbformat": 4,
    "colab": {
      "provenance": []
    },
    "kernelspec": {
      "name": "python3",
      "display_name": "Python 3"
    },
    "gpuClass": "standard"
  },
  "nbformat": 4,
  "nbformat_minor": 0
}